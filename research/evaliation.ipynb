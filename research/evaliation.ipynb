{
 "cells": [
  {
   "cell_type": "code",
   "execution_count": 3,
   "id": "51ad6fb7",
   "metadata": {},
   "outputs": [
    {
     "name": "stdout",
     "output_type": "stream",
     "text": [
      "Collecting dagshub\n",
      "  Downloading dagshub-0.5.9-py3-none-any.whl.metadata (12 kB)\n",
      "Requirement already satisfied: PyYAML>=5 in c:\\users\\administrator\\anaconda3\\envs\\cancerenv\\lib\\site-packages (from dagshub) (6.0.2)\n",
      "Requirement already satisfied: appdirs>=1.4.4 in c:\\users\\administrator\\anaconda3\\envs\\cancerenv\\lib\\site-packages (from dagshub) (1.4.4)\n",
      "Requirement already satisfied: click>=8.0.4 in c:\\users\\administrator\\anaconda3\\envs\\cancerenv\\lib\\site-packages (from dagshub) (8.1.8)\n",
      "Requirement already satisfied: httpx>=0.23.0 in c:\\users\\administrator\\anaconda3\\envs\\cancerenv\\lib\\site-packages (from dagshub) (0.28.1)\n",
      "Requirement already satisfied: GitPython>=3.1.29 in c:\\users\\administrator\\anaconda3\\envs\\cancerenv\\lib\\site-packages (from dagshub) (3.1.44)\n",
      "Requirement already satisfied: rich>=13.1.0 in c:\\users\\administrator\\anaconda3\\envs\\cancerenv\\lib\\site-packages (from dagshub) (13.9.4)\n",
      "Collecting dacite~=1.6.0 (from dagshub)\n",
      "  Downloading dacite-1.6.0-py3-none-any.whl.metadata (14 kB)\n",
      "Collecting tenacity>=8.2.2 (from dagshub)\n",
      "  Using cached tenacity-9.0.0-py3-none-any.whl.metadata (1.2 kB)\n",
      "Collecting gql[requests] (from dagshub)\n",
      "  Downloading gql-3.5.2-py2.py3-none-any.whl.metadata (9.4 kB)\n",
      "Collecting dataclasses-json (from dagshub)\n",
      "  Using cached dataclasses_json-0.6.7-py3-none-any.whl.metadata (25 kB)\n",
      "Requirement already satisfied: pandas in c:\\users\\administrator\\anaconda3\\envs\\cancerenv\\lib\\site-packages (from dagshub) (2.0.3)\n",
      "Collecting treelib>=1.6.4 (from dagshub)\n",
      "  Downloading treelib-1.7.1-py3-none-any.whl.metadata (1.4 kB)\n",
      "Collecting pathvalidate>=3.0.0 (from dagshub)\n",
      "  Downloading pathvalidate-3.2.1-py3-none-any.whl.metadata (12 kB)\n",
      "Requirement already satisfied: python-dateutil in c:\\users\\administrator\\anaconda3\\envs\\cancerenv\\lib\\site-packages (from dagshub) (2.9.0.post0)\n",
      "Collecting boto3 (from dagshub)\n",
      "  Downloading boto3-1.37.38-py3-none-any.whl.metadata (6.7 kB)\n",
      "Requirement already satisfied: semver in c:\\users\\administrator\\anaconda3\\envs\\cancerenv\\lib\\site-packages (from dagshub) (3.0.4)\n",
      "Collecting dagshub-annotation-converter>=0.1.5 (from dagshub)\n",
      "  Downloading dagshub_annotation_converter-0.1.9-py3-none-any.whl.metadata (2.5 kB)\n",
      "Requirement already satisfied: colorama in c:\\users\\administrator\\anaconda3\\envs\\cancerenv\\lib\\site-packages (from click>=8.0.4->dagshub) (0.4.6)\n",
      "Collecting lxml (from dagshub-annotation-converter>=0.1.5->dagshub)\n",
      "  Downloading lxml-5.4.0-cp38-cp38-win_amd64.whl.metadata (3.3 kB)\n",
      "Requirement already satisfied: pillow in c:\\users\\administrator\\anaconda3\\envs\\cancerenv\\lib\\site-packages (from dagshub-annotation-converter>=0.1.5->dagshub) (10.4.0)\n",
      "Requirement already satisfied: pydantic>=2.0.0 in c:\\users\\administrator\\anaconda3\\envs\\cancerenv\\lib\\site-packages (from dagshub-annotation-converter>=0.1.5->dagshub) (2.10.6)\n",
      "Requirement already satisfied: typing-extensions in c:\\users\\administrator\\anaconda3\\envs\\cancerenv\\lib\\site-packages (from dagshub-annotation-converter>=0.1.5->dagshub) (4.12.2)\n",
      "Requirement already satisfied: gitdb<5,>=4.0.1 in c:\\users\\administrator\\anaconda3\\envs\\cancerenv\\lib\\site-packages (from GitPython>=3.1.29->dagshub) (4.0.12)\n",
      "Requirement already satisfied: anyio in c:\\users\\administrator\\anaconda3\\envs\\cancerenv\\lib\\site-packages (from httpx>=0.23.0->dagshub) (4.5.2)\n",
      "Requirement already satisfied: certifi in c:\\users\\administrator\\anaconda3\\envs\\cancerenv\\lib\\site-packages (from httpx>=0.23.0->dagshub) (2025.1.31)\n",
      "Requirement already satisfied: httpcore==1.* in c:\\users\\administrator\\anaconda3\\envs\\cancerenv\\lib\\site-packages (from httpx>=0.23.0->dagshub) (1.0.7)\n",
      "Requirement already satisfied: idna in c:\\users\\administrator\\anaconda3\\envs\\cancerenv\\lib\\site-packages (from httpx>=0.23.0->dagshub) (3.10)\n",
      "Requirement already satisfied: h11<0.15,>=0.13 in c:\\users\\administrator\\anaconda3\\envs\\cancerenv\\lib\\site-packages (from httpcore==1.*->httpx>=0.23.0->dagshub) (0.14.0)\n",
      "Requirement already satisfied: markdown-it-py>=2.2.0 in c:\\users\\administrator\\anaconda3\\envs\\cancerenv\\lib\\site-packages (from rich>=13.1.0->dagshub) (3.0.0)\n",
      "Requirement already satisfied: pygments<3.0.0,>=2.13.0 in c:\\users\\administrator\\anaconda3\\envs\\cancerenv\\lib\\site-packages (from rich>=13.1.0->dagshub) (2.19.1)\n",
      "Requirement already satisfied: six in c:\\users\\administrator\\anaconda3\\envs\\cancerenv\\lib\\site-packages (from treelib>=1.6.4->dagshub) (1.17.0)\n",
      "Collecting botocore<1.38.0,>=1.37.38 (from boto3->dagshub)\n",
      "  Downloading botocore-1.37.38-py3-none-any.whl.metadata (5.7 kB)\n",
      "Collecting jmespath<2.0.0,>=0.7.1 (from boto3->dagshub)\n",
      "  Using cached jmespath-1.0.1-py3-none-any.whl.metadata (7.6 kB)\n",
      "Collecting s3transfer<0.12.0,>=0.11.0 (from boto3->dagshub)\n",
      "  Downloading s3transfer-0.11.5-py3-none-any.whl.metadata (1.7 kB)\n",
      "Collecting marshmallow<4.0.0,>=3.18.0 (from dataclasses-json->dagshub)\n",
      "  Using cached marshmallow-3.22.0-py3-none-any.whl.metadata (7.2 kB)\n",
      "Collecting typing-inspect<1,>=0.4.0 (from dataclasses-json->dagshub)\n",
      "  Using cached typing_inspect-0.9.0-py3-none-any.whl.metadata (1.5 kB)\n",
      "Collecting graphql-core<3.2.5,>=3.2 (from gql[requests]->dagshub)\n",
      "  Downloading graphql_core-3.2.4-py3-none-any.whl.metadata (10 kB)\n",
      "Requirement already satisfied: yarl<2.0,>=1.6 in c:\\users\\administrator\\anaconda3\\envs\\cancerenv\\lib\\site-packages (from gql[requests]->dagshub) (1.15.2)\n",
      "Collecting backoff<3.0,>=1.11.1 (from gql[requests]->dagshub)\n",
      "  Using cached backoff-2.2.1-py3-none-any.whl.metadata (14 kB)\n",
      "Requirement already satisfied: requests<3,>=2.26 in c:\\users\\administrator\\anaconda3\\envs\\cancerenv\\lib\\site-packages (from gql[requests]->dagshub) (2.32.3)\n",
      "Collecting requests-toolbelt<2,>=1.0.0 (from gql[requests]->dagshub)\n",
      "  Using cached requests_toolbelt-1.0.0-py2.py3-none-any.whl.metadata (14 kB)\n",
      "Requirement already satisfied: pytz>=2020.1 in c:\\users\\administrator\\anaconda3\\envs\\cancerenv\\lib\\site-packages (from pandas->dagshub) (2022.7.1)\n",
      "Requirement already satisfied: tzdata>=2022.1 in c:\\users\\administrator\\anaconda3\\envs\\cancerenv\\lib\\site-packages (from pandas->dagshub) (2025.1)\n",
      "Requirement already satisfied: numpy>=1.20.3 in c:\\users\\administrator\\anaconda3\\envs\\cancerenv\\lib\\site-packages (from pandas->dagshub) (1.24.4)\n",
      "Requirement already satisfied: sniffio>=1.1 in c:\\users\\administrator\\anaconda3\\envs\\cancerenv\\lib\\site-packages (from anyio->httpx>=0.23.0->dagshub) (1.3.1)\n",
      "Requirement already satisfied: exceptiongroup>=1.0.2 in c:\\users\\administrator\\anaconda3\\envs\\cancerenv\\lib\\site-packages (from anyio->httpx>=0.23.0->dagshub) (1.2.2)\n",
      "Collecting urllib3<1.27,>=1.25.4 (from botocore<1.38.0,>=1.37.38->boto3->dagshub)\n",
      "  Using cached urllib3-1.26.20-py2.py3-none-any.whl.metadata (50 kB)\n",
      "Requirement already satisfied: smmap<6,>=3.0.1 in c:\\users\\administrator\\anaconda3\\envs\\cancerenv\\lib\\site-packages (from gitdb<5,>=4.0.1->GitPython>=3.1.29->dagshub) (5.0.2)\n",
      "Requirement already satisfied: mdurl~=0.1 in c:\\users\\administrator\\anaconda3\\envs\\cancerenv\\lib\\site-packages (from markdown-it-py>=2.2.0->rich>=13.1.0->dagshub) (0.1.2)\n",
      "Requirement already satisfied: packaging>=17.0 in c:\\users\\administrator\\anaconda3\\envs\\cancerenv\\lib\\site-packages (from marshmallow<4.0.0,>=3.18.0->dataclasses-json->dagshub) (23.2)\n",
      "Requirement already satisfied: annotated-types>=0.6.0 in c:\\users\\administrator\\anaconda3\\envs\\cancerenv\\lib\\site-packages (from pydantic>=2.0.0->dagshub-annotation-converter>=0.1.5->dagshub) (0.7.0)\n",
      "Requirement already satisfied: pydantic-core==2.27.2 in c:\\users\\administrator\\anaconda3\\envs\\cancerenv\\lib\\site-packages (from pydantic>=2.0.0->dagshub-annotation-converter>=0.1.5->dagshub) (2.27.2)\n",
      "Requirement already satisfied: charset-normalizer<4,>=2 in c:\\users\\administrator\\anaconda3\\envs\\cancerenv\\lib\\site-packages (from requests<3,>=2.26->gql[requests]->dagshub) (3.4.1)\n",
      "Collecting mypy-extensions>=0.3.0 (from typing-inspect<1,>=0.4.0->dataclasses-json->dagshub)\n",
      "  Downloading mypy_extensions-1.1.0-py3-none-any.whl.metadata (1.1 kB)\n",
      "Requirement already satisfied: multidict>=4.0 in c:\\users\\administrator\\anaconda3\\envs\\cancerenv\\lib\\site-packages (from yarl<2.0,>=1.6->gql[requests]->dagshub) (6.1.0)\n",
      "Requirement already satisfied: propcache>=0.2.0 in c:\\users\\administrator\\anaconda3\\envs\\cancerenv\\lib\\site-packages (from yarl<2.0,>=1.6->gql[requests]->dagshub) (0.2.0)\n",
      "Downloading dagshub-0.5.9-py3-none-any.whl (260 kB)\n",
      "Downloading dacite-1.6.0-py3-none-any.whl (12 kB)\n",
      "Downloading dagshub_annotation_converter-0.1.9-py3-none-any.whl (33 kB)\n",
      "Downloading pathvalidate-3.2.1-py3-none-any.whl (23 kB)\n",
      "Using cached tenacity-9.0.0-py3-none-any.whl (28 kB)\n",
      "Downloading treelib-1.7.1-py3-none-any.whl (19 kB)\n",
      "Downloading boto3-1.37.38-py3-none-any.whl (139 kB)\n",
      "Using cached dataclasses_json-0.6.7-py3-none-any.whl (28 kB)\n",
      "Using cached backoff-2.2.1-py3-none-any.whl (15 kB)\n",
      "Downloading botocore-1.37.38-py3-none-any.whl (13.5 MB)\n",
      "   ---------------------------------------- 0.0/13.5 MB ? eta -:--:--\n",
      "   --- ------------------------------------ 1.3/13.5 MB 9.6 MB/s eta 0:00:02\n",
      "   ----------- ---------------------------- 3.9/13.5 MB 10.7 MB/s eta 0:00:01\n",
      "   ------------ --------------------------- 4.2/13.5 MB 10.5 MB/s eta 0:00:01\n",
      "   ------------ --------------------------- 4.2/13.5 MB 10.5 MB/s eta 0:00:01\n",
      "   ------------- -------------------------- 4.5/13.5 MB 4.7 MB/s eta 0:00:02\n",
      "   -------------- ------------------------- 5.0/13.5 MB 4.4 MB/s eta 0:00:02\n",
      "   --------------- ------------------------ 5.2/13.5 MB 4.1 MB/s eta 0:00:03\n",
      "   ----------------- ---------------------- 6.0/13.5 MB 3.6 MB/s eta 0:00:03\n",
      "   ------------------ --------------------- 6.3/13.5 MB 3.5 MB/s eta 0:00:03\n",
      "   ------------------- -------------------- 6.6/13.5 MB 3.1 MB/s eta 0:00:03\n",
      "   -------------------- ------------------- 6.8/13.5 MB 3.1 MB/s eta 0:00:03\n",
      "   -------------------- ------------------- 7.1/13.5 MB 2.9 MB/s eta 0:00:03\n",
      "   --------------------- ------------------ 7.3/13.5 MB 2.6 MB/s eta 0:00:03\n",
      "   --------------------- ------------------ 7.3/13.5 MB 2.6 MB/s eta 0:00:03\n",
      "   --------------------- ------------------ 7.3/13.5 MB 2.6 MB/s eta 0:00:03\n",
      "   --------------------- ------------------ 7.3/13.5 MB 2.6 MB/s eta 0:00:03\n",
      "   ---------------------- ----------------- 7.6/13.5 MB 2.1 MB/s eta 0:00:03\n",
      "   ---------------------- ----------------- 7.6/13.5 MB 2.1 MB/s eta 0:00:03\n",
      "   ---------------------- ----------------- 7.6/13.5 MB 2.1 MB/s eta 0:00:03\n",
      "   ---------------------- ----------------- 7.6/13.5 MB 2.1 MB/s eta 0:00:03\n",
      "   ---------------------- ----------------- 7.6/13.5 MB 2.1 MB/s eta 0:00:03\n",
      "   ---------------------- ----------------- 7.6/13.5 MB 2.1 MB/s eta 0:00:03\n",
      "   ----------------------- ---------------- 7.9/13.5 MB 1.6 MB/s eta 0:00:04\n",
      "   ----------------------- ---------------- 7.9/13.5 MB 1.6 MB/s eta 0:00:04\n",
      "   ----------------------- ---------------- 7.9/13.5 MB 1.6 MB/s eta 0:00:04\n",
      "   ----------------------- ---------------- 7.9/13.5 MB 1.6 MB/s eta 0:00:04\n",
      "   ----------------------- ---------------- 7.9/13.5 MB 1.6 MB/s eta 0:00:04\n",
      "   ------------------------ --------------- 8.1/13.5 MB 1.3 MB/s eta 0:00:05\n",
      "   ------------------------ --------------- 8.1/13.5 MB 1.3 MB/s eta 0:00:05\n",
      "   ------------------------ --------------- 8.1/13.5 MB 1.3 MB/s eta 0:00:05\n",
      "   ------------------------ --------------- 8.1/13.5 MB 1.3 MB/s eta 0:00:05\n",
      "   ------------------------ --------------- 8.4/13.5 MB 1.2 MB/s eta 0:00:05\n",
      "   ------------------------- -------------- 8.7/13.5 MB 1.2 MB/s eta 0:00:05\n",
      "   ---------------------------- ----------- 9.7/13.5 MB 1.3 MB/s eta 0:00:03\n",
      "   ------------------------------- -------- 10.5/13.5 MB 1.4 MB/s eta 0:00:03\n",
      "   ---------------------------------- ----- 11.5/13.5 MB 1.5 MB/s eta 0:00:02\n",
      "   ------------------------------------ --- 12.3/13.5 MB 1.5 MB/s eta 0:00:01\n",
      "   ---------------------------------------  13.4/13.5 MB 1.6 MB/s eta 0:00:01\n",
      "   ---------------------------------------- 13.5/13.5 MB 1.6 MB/s eta 0:00:00\n",
      "Downloading graphql_core-3.2.4-py3-none-any.whl (203 kB)\n",
      "Using cached jmespath-1.0.1-py3-none-any.whl (20 kB)\n",
      "Using cached marshmallow-3.22.0-py3-none-any.whl (49 kB)\n",
      "Using cached requests_toolbelt-1.0.0-py2.py3-none-any.whl (54 kB)\n",
      "Downloading s3transfer-0.11.5-py3-none-any.whl (84 kB)\n",
      "Using cached typing_inspect-0.9.0-py3-none-any.whl (8.8 kB)\n",
      "Downloading gql-3.5.2-py2.py3-none-any.whl (74 kB)\n",
      "Downloading lxml-5.4.0-cp38-cp38-win_amd64.whl (3.8 MB)\n",
      "   ---------------------------------------- 0.0/3.8 MB ? eta -:--:--\n",
      "   ---------------------------------------- 0.0/3.8 MB ? eta -:--:--\n",
      "   ---------------------------------------- 0.0/3.8 MB ? eta -:--:--\n",
      "   ---------------------------------------- 0.0/3.8 MB ? eta -:--:--\n",
      "   ---------------------------------------- 0.0/3.8 MB ? eta -:--:--\n",
      "   ---------------------------------------- 0.0/3.8 MB ? eta -:--:--\n",
      "   ---------------------------------------- 0.0/3.8 MB ? eta -:--:--\n",
      "   ---------------------------------------- 0.0/3.8 MB ? eta -:--:--\n",
      "   ---------------------------------------- 0.0/3.8 MB ? eta -:--:--\n",
      "   ---------------------------------------- 0.0/3.8 MB ? eta -:--:--\n",
      "   ---------------------------------------- 0.0/3.8 MB ? eta -:--:--\n",
      "   ---------------------------------------- 0.0/3.8 MB ? eta -:--:--\n",
      "   ---------------------------------------- 0.0/3.8 MB ? eta -:--:--\n",
      "   ---------------------------------------- 0.0/3.8 MB ? eta -:--:--\n",
      "   ---------------------------------------- 0.0/3.8 MB ? eta -:--:--\n",
      "   ---------------------------------------- 0.0/3.8 MB ? eta -:--:--\n",
      "   ---------------------------------------- 0.0/3.8 MB ? eta -:--:--\n",
      "   ---------------------------------------- 0.0/3.8 MB ? eta -:--:--\n",
      "   ---------------------------------------- 0.0/3.8 MB ? eta -:--:--\n",
      "   ---------------------------------------- 0.0/3.8 MB ? eta -:--:--\n",
      "   -- ------------------------------------- 0.3/3.8 MB ? eta -:--:--\n",
      "   -- ------------------------------------- 0.3/3.8 MB ? eta -:--:--\n",
      "   ---------------- ----------------------- 1.6/3.8 MB 2.6 MB/s eta 0:00:01\n",
      "   --------------------------- ------------ 2.6/3.8 MB 3.4 MB/s eta 0:00:01\n",
      "   -------------------------------- ------- 3.1/3.8 MB 3.2 MB/s eta 0:00:01\n",
      "   -------------------------------------- - 3.7/3.8 MB 2.9 MB/s eta 0:00:01\n",
      "   ---------------------------------------- 3.8/3.8 MB 2.9 MB/s eta 0:00:00\n",
      "Downloading mypy_extensions-1.1.0-py3-none-any.whl (5.0 kB)\n",
      "Using cached urllib3-1.26.20-py2.py3-none-any.whl (144 kB)\n",
      "Installing collected packages: urllib3, treelib, tenacity, pathvalidate, mypy-extensions, marshmallow, lxml, jmespath, graphql-core, dacite, backoff, typing-inspect, botocore, s3transfer, requests-toolbelt, gql, dataclasses-json, dagshub-annotation-converter, boto3, dagshub\n",
      "  Attempting uninstall: urllib3\n",
      "    Found existing installation: urllib3 2.2.3\n",
      "    Uninstalling urllib3-2.2.3:\n",
      "      Successfully uninstalled urllib3-2.2.3\n",
      "Successfully installed backoff-2.2.1 boto3-1.37.38 botocore-1.37.38 dacite-1.6.0 dagshub-0.5.9 dagshub-annotation-converter-0.1.9 dataclasses-json-0.6.7 gql-3.5.2 graphql-core-3.2.4 jmespath-1.0.1 lxml-5.4.0 marshmallow-3.22.0 mypy-extensions-1.1.0 pathvalidate-3.2.1 requests-toolbelt-1.0.0 s3transfer-0.11.5 tenacity-9.0.0 treelib-1.7.1 typing-inspect-0.9.0 urllib3-1.26.20\n"
     ]
    }
   ],
   "source": [
    "!pip install dagshub"
   ]
  },
  {
   "cell_type": "code",
   "execution_count": 4,
   "id": "cdd9d747",
   "metadata": {},
   "outputs": [
    {
     "data": {
      "text/html": [
       "<pre style=\"white-space:pre;overflow-x:auto;line-height:normal;font-family:Menlo,'DejaVu Sans Mono',consolas,'Courier New',monospace\">                                       <span style=\"font-weight: bold\">❗❗❗ AUTHORIZATION REQUIRED ❗❗❗</span>                                        \n",
       "</pre>\n"
      ],
      "text/plain": [
       "                                       \u001b[1m❗❗❗ AUTHORIZATION REQUIRED ❗❗❗\u001b[0m                                        \n"
      ]
     },
     "metadata": {},
     "output_type": "display_data"
    },
    {
     "data": {
      "text/html": [
       "<pre style=\"white-space:pre;overflow-x:auto;line-height:normal;font-family:Menlo,'DejaVu Sans Mono',consolas,'Courier New',monospace\">c:\\Users\\Administrator\\anaconda3\\envs\\cancerenv\\lib\\site-packages\\rich\\live.py:231: UserWarning: install \n",
       "\"ipywidgets\" for Jupyter support\n",
       "  warnings.warn('install \"ipywidgets\" for Jupyter support')\n",
       "</pre>\n"
      ],
      "text/plain": [
       "c:\\Users\\Administrator\\anaconda3\\envs\\cancerenv\\lib\\site-packages\\rich\\live.py:231: UserWarning: install \n",
       "\"ipywidgets\" for Jupyter support\n",
       "  warnings.warn('install \"ipywidgets\" for Jupyter support')\n"
      ]
     },
     "metadata": {},
     "output_type": "display_data"
    },
    {
     "name": "stdout",
     "output_type": "stream",
     "text": [
      "\n",
      "\n",
      "Open the following link in your browser to authorize the client:\n",
      "https://dagshub.com/login/oauth/authorize?state=a9869e66-2a4f-473e-af97-4399a2bf006e&client_id=32b60ba385aa7cecf24046d8195a71c07dd345d9657977863b52e7748e0f0f28&middleman_request_id=6d87aab800d9d1075db2f86b374e7bf82405ef260d34ba0f7c2b820e559fee38\n",
      "\n",
      "\n"
     ]
    },
    {
     "data": {
      "text/html": [
       "<pre style=\"white-space:pre;overflow-x:auto;line-height:normal;font-family:Menlo,'DejaVu Sans Mono',consolas,'Courier New',monospace\"></pre>\n"
      ],
      "text/plain": []
     },
     "metadata": {},
     "output_type": "display_data"
    },
    {
     "data": {
      "text/html": [
       "<pre style=\"white-space:pre;overflow-x:auto;line-height:normal;font-family:Menlo,'DejaVu Sans Mono',consolas,'Courier New',monospace\">Accessing as Adity-star\n",
       "</pre>\n"
      ],
      "text/plain": [
       "Accessing as Adity-star\n"
      ]
     },
     "metadata": {},
     "output_type": "display_data"
    },
    {
     "data": {
      "text/html": [
       "<pre style=\"white-space:pre;overflow-x:auto;line-height:normal;font-family:Menlo,'DejaVu Sans Mono',consolas,'Courier New',monospace\">Initialized MLflow to track repo <span style=\"color: #008000; text-decoration-color: #008000\">\"Adity-star/End-to-End-Breast-Cancer-Classification-Using-DVC-and-MLflow\"</span>\n",
       "</pre>\n"
      ],
      "text/plain": [
       "Initialized MLflow to track repo \u001b[32m\"Adity-star/End-to-End-Breast-Cancer-Classification-Using-DVC-and-MLflow\"\u001b[0m\n"
      ]
     },
     "metadata": {},
     "output_type": "display_data"
    },
    {
     "data": {
      "text/html": [
       "<pre style=\"white-space:pre;overflow-x:auto;line-height:normal;font-family:Menlo,'DejaVu Sans Mono',consolas,'Courier New',monospace\">Repository Adity-star/End-to-End-Breast-Cancer-Classification-Using-DVC-and-MLflow initialized!\n",
       "</pre>\n"
      ],
      "text/plain": [
       "Repository Adity-star/End-to-End-Breast-Cancer-Classification-Using-DVC-and-MLflow initialized!\n"
      ]
     },
     "metadata": {},
     "output_type": "display_data"
    }
   ],
   "source": [
    "import dagshub\n",
    "dagshub.init(repo_owner='Adity-star', repo_name='End-to-End-Breast-Cancer-Classification-Using-DVC-and-MLflow', mlflow=True)\n",
    "\n",
    "import mlflow\n",
    "with mlflow.start_run():\n",
    "  mlflow.log_param('parameter name', 'value')\n",
    "  mlflow.log_metric('metric name', 1)"
   ]
  },
  {
   "cell_type": "code",
   "execution_count": 5,
   "id": "d829935f",
   "metadata": {},
   "outputs": [
    {
     "name": "stderr",
     "output_type": "stream",
     "text": [
      "C:\\Users\\Administrator\\AppData\\Local\\Temp\\ipykernel_1448\\1672674614.py:2: FutureWarning: You are using `torch.load` with `weights_only=False` (the current default value), which uses the default pickle module implicitly. It is possible to construct malicious pickle data which will execute arbitrary code during unpickling (See https://github.com/pytorch/pytorch/blob/main/SECURITY.md#untrusted-models for more details). In a future release, the default value for `weights_only` will be flipped to `True`. This limits the functions that could be executed during unpickling. Arbitrary objects will no longer be allowed to be loaded via this mode unless they are explicitly allowlisted by the user via `torch.serialization.add_safe_globals`. We recommend you start setting `weights_only=True` for any use case where you don't have full control of the loaded file. Please open an issue on GitHub for any issues related to this experimental feature.\n",
      "  model = torch.load(r'C:\\Users\\Administrator\\OneDrive\\Desktop\\End-to-End-Breast-Cancer-Classification-Using-DVC-and-MLflow\\artifacts\\prepare_base_model\\base_model_updated.h5')\n"
     ]
    }
   ],
   "source": [
    "import torch \n",
    "model = torch.load(r'C:\\Users\\Administrator\\OneDrive\\Desktop\\End-to-End-Breast-Cancer-Classification-Using-DVC-and-MLflow\\artifacts\\prepare_base_model\\base_model_updated.h5')"
   ]
  },
  {
   "cell_type": "code",
   "execution_count": null,
   "metadata": {},
   "outputs": [],
   "source": [
    "from dataclasses import dataclass\n",
    "\n",
    "@dataclass(frozen=True)\n",
    "class \n",
    "\n"
   ]
  }
 ],
 "metadata": {
  "kernelspec": {
   "display_name": "cancerenv",
   "language": "python",
   "name": "python3"
  },
  "language_info": {
   "codemirror_mode": {
    "name": "ipython",
    "version": 3
   },
   "file_extension": ".py",
   "mimetype": "text/x-python",
   "name": "python",
   "nbconvert_exporter": "python",
   "pygments_lexer": "ipython3",
   "version": "3.8.20"
  }
 },
 "nbformat": 4,
 "nbformat_minor": 5
}
